{
 "cells": [
  {
   "cell_type": "code",
   "metadata": {
    "ExecuteTime": {
     "end_time": "2024-05-22T10:11:45.902412Z",
     "start_time": "2024-05-22T10:11:45.883345Z"
    }
   },
   "source": [
    "import pandas as pd\n",
    "import numpy as np\n",
    "import os\n",
    "from sklearn.preprocessing import StandardScaler\n",
    "from sklearn.datasets import load_diabetes\n",
    "import tensorflow\n",
    "from tensorflow import keras"
   ],
   "outputs": [],
   "execution_count": 9
  },
  {
   "cell_type": "code",
   "metadata": {
    "ExecuteTime": {
     "end_time": "2024-05-22T10:11:46.607816Z",
     "start_time": "2024-05-22T10:11:46.399973Z"
    }
   },
   "source": [
    "(X_train,y_train),(X_test,y_test) = keras.datasets.mnist.load_data()"
   ],
   "outputs": [],
   "execution_count": 10
  },
  {
   "cell_type": "code",
   "metadata": {
    "ExecuteTime": {
     "end_time": "2024-05-22T10:11:46.848996Z",
     "start_time": "2024-05-22T10:11:46.716134Z"
    }
   },
   "source": [
    "# Normalize the images\n",
    "X_train = X_train.astype('float32')/255\n",
    "X_test = X_test.astype('float32')/255"
   ],
   "outputs": [],
   "execution_count": 11
  },
  {
   "cell_type": "code",
   "metadata": {
    "ExecuteTime": {
     "end_time": "2024-05-22T10:11:47.757313Z",
     "start_time": "2024-05-22T10:11:47.752665Z"
    }
   },
   "source": [
    "print(type(X_train))"
   ],
   "outputs": [
    {
     "name": "stdout",
     "output_type": "stream",
     "text": [
      "<class 'numpy.ndarray'>\n"
     ]
    }
   ],
   "execution_count": 12
  },
  {
   "cell_type": "code",
   "metadata": {
    "ExecuteTime": {
     "end_time": "2024-05-22T10:11:48.121877Z",
     "start_time": "2024-05-22T10:11:48.114625Z"
    }
   },
   "source": [
    "X_train.shape"
   ],
   "outputs": [
    {
     "data": {
      "text/plain": [
       "(60000, 28, 28)"
      ]
     },
     "execution_count": 13,
     "metadata": {},
     "output_type": "execute_result"
    }
   ],
   "execution_count": 13
  },
  {
   "cell_type": "code",
   "metadata": {
    "ExecuteTime": {
     "end_time": "2024-05-22T10:12:15.082501Z",
     "start_time": "2024-05-22T10:11:55.018974Z"
    }
   },
   "source": [
    "import numpy as np\n",
    "import pandas as pd\n",
    "from tensorflow.keras.datasets import mnist\n",
    "from tensorflow.keras.utils import to_categorical\n",
    "\n",
    "\n",
    "# Create directory to save split files\n",
    "output_directory = \"../client_data/\"\n",
    "os.makedirs(output_directory, exist_ok=True)\n",
    "\n",
    "\n",
    "# Load the MNIST dataset\n",
    "(x_train, y_train), (x_test, y_test) = mnist.load_data()\n",
    "\n",
    "# Normalize the images to the range [0, 1]\n",
    "x_train = x_train.astype('float32') / 255\n",
    "x_test = x_test.astype('float32') / 255\n",
    "\n",
    "clients_X = {}\n",
    "clients_Y = {}\n",
    "\n",
    "num_clients = 5\n",
    "def split_dataset_round_robin(X, y, num_clients):\n",
    "    clients_X = {i: [] for i in range(1, num_clients + 1)}\n",
    "    clients_Y = {i: [] for i in range(1, num_clients + 1)}\n",
    "    \n",
    "    for i in range(len(X)):\n",
    "        client_num = i % num_clients + 1\n",
    "        clients_X[client_num].append(X[i])\n",
    "        clients_Y[client_num].append(y[i])\n",
    "    \n",
    "    # Convert lists to numpy arrays\n",
    "    for client in range(1, num_clients + 1):\n",
    "        clients_X[client] = np.array(clients_X[client])\n",
    "        clients_Y[client] = np.array(clients_Y[client])\n",
    "    \n",
    "    return clients_X, clients_Y\n",
    "\n",
    "# Split the dataset into 2 clients in a round-robin manner\n",
    "clients_X, clients_Y = split_dataset_round_robin(x_train, y_train, num_clients)\n",
    "\n",
    "\n",
    "\n",
    "def save_to_csv(clients_X, clients_Y, client_num):\n",
    "    # Flatten the images for saving in CSV\n",
    "    flat_X = clients_X.reshape(clients_X.shape[0], -1)\n",
    "    df_X = pd.DataFrame(flat_X)\n",
    "    df_Y = pd.DataFrame(clients_Y)\n",
    "    \n",
    "    split_file_path = os.path.join(output_directory, f\"client_{client_num}_data_X.csv\")\n",
    "    df_X.to_csv(split_file_path, index=False)\n",
    "\n",
    "    split_file_path = os.path.join(output_directory, f\"client_{client_num}_data_Y.csv\")\n",
    "    df_Y.to_csv(split_file_path, index=False)\n",
    "\n",
    "    print(f\"Client {client_num} data saved to {split_file_path}\")\n",
    "\n",
    "\n",
    "# Save each client's data to CSV files\n",
    "for client in range(1, num_clients + 1):\n",
    "    save_to_csv(clients_X[client], clients_Y[client], client)\n",
    "\n",
    "\n"
   ],
   "outputs": [
    {
     "name": "stdout",
     "output_type": "stream",
     "text": [
      "Client 1 data saved to ../client_data/client_1_data_Y.csv\n",
      "Client 2 data saved to ../client_data/client_2_data_Y.csv\n",
      "Client 3 data saved to ../client_data/client_3_data_Y.csv\n",
      "Client 4 data saved to ../client_data/client_4_data_Y.csv\n",
      "Client 5 data saved to ../client_data/client_5_data_Y.csv\n"
     ]
    }
   ],
   "execution_count": 14
  },
  {
   "cell_type": "code",
   "metadata": {},
   "source": [
    "# Check the shapes of the resulting arrays to verify\n",
    "for client in range(1, 3):\n",
    "    print(f\"Client {client} X shape: {clients_X[client].shape}\")\n",
    "    print(f\"Client {client} Y shape: {clients_Y[client].shape}\")"
   ],
   "outputs": [],
   "execution_count": null
  },
  {
   "cell_type": "code",
   "execution_count": null,
   "metadata": {},
   "outputs": [],
   "source": []
  }
 ],
 "metadata": {
  "kernelspec": {
   "display_name": "Python 3.11.5 ('base')",
   "language": "python",
   "name": "python3"
  },
  "language_info": {
   "codemirror_mode": {
    "name": "ipython",
    "version": 3
   },
   "file_extension": ".py",
   "mimetype": "text/x-python",
   "name": "python",
   "nbconvert_exporter": "python",
   "pygments_lexer": "ipython3",
   "version": "3.11.5"
  },
  "orig_nbformat": 4,
  "vscode": {
   "interpreter": {
    "hash": "23d52cadcecb545e0b3e67ad138b8556d82bc44889c667840086057480f370bb"
   }
  }
 },
 "nbformat": 4,
 "nbformat_minor": 2
}
